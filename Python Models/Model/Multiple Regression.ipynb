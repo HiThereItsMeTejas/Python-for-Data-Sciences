{
 "cells": [
  {
   "cell_type": "code",
   "execution_count": 1,
   "metadata": {},
   "outputs": [
    {
     "name": "stdout",
     "output_type": "stream",
     "text": [
      "[107.2087328]\n"
     ]
    }
   ],
   "source": [
    "import pandas as pd\n",
    "from sklearn import linear_model\n",
    "\n",
    "#read csv file\n",
    "cardata = pd.read_csv('C:\\\\Users\\\\tejas\\\\Desktop\\\\cars.csv')\n",
    "\n",
    "# print cardata\n",
    "\n",
    "\n",
    "#independent variable declaration\n",
    "x = cardata[['Weight','Volume']]\n",
    "\n",
    "#dependent variable declaration\n",
    "y = cardata['CO2']\n",
    "\n",
    "regr = linear_model.LinearRegression()\n",
    "\n",
    "regr.fit(x,y)\n",
    "\n",
    "prediction = regr.predict([[2300,1300]])\n",
    "\n",
    "\n",
    "\n",
    "print prediction\n"
   ]
  },
  {
   "cell_type": "code",
   "execution_count": null,
   "metadata": {},
   "outputs": [],
   "source": []
  }
 ],
 "metadata": {
  "kernelspec": {
   "display_name": "Python 2",
   "language": "python",
   "name": "python2"
  },
  "language_info": {
   "codemirror_mode": {
    "name": "ipython",
    "version": 2
   },
   "file_extension": ".py",
   "mimetype": "text/x-python",
   "name": "python",
   "nbconvert_exporter": "python",
   "pygments_lexer": "ipython2",
   "version": "2.7.16"
  }
 },
 "nbformat": 4,
 "nbformat_minor": 2
}
